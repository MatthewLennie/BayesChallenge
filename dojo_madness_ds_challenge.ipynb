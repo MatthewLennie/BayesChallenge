{
  "nbformat": 4,
  "nbformat_minor": 0,
  "metadata": {
    "colab": {
      "name": "bayes_ds_challenge.ipynb",
      "version": "0.3.2",
      "provenance": []
    },
    "kernelspec": {
      "name": "python3",
      "display_name": "Python 3"
    }
  },
  "cells": [
    {
      "metadata": {
        "id": "tNtORVaGbgml",
        "colab_type": "text"
      },
      "cell_type": "markdown",
      "source": [
        "## Dojo Madness - Data Science Challenge\n",
        "\n",
        "The dataset you are given contains matches of a MOBA game. The matches are uniquely identified by a match id. Per match, there are several rows. Each row describes a unique gamestate in the match. We have removed the names of the other columns.\n",
        "\n",
        "Your task is to predict the winner, given in the winner column.\n",
        "\n",
        "The data is attached in the e-mail as challenge_data.csv.\n",
        "\n",
        "We are interested in seeing how you prepare the data, feature generation, algorithm selection, and lastly how you evaluate your predictions. Please guide us through your workflow with markdown comments and explanations where necessary. There is no need to explain how the methods work, but we want to know why you make your choices.\n",
        "\n",
        "*Note that we are mainly interested in your approach, not the actual performance of the model.*\n",
        "\n",
        "\n",
        "When you are finished, please let us know via e-mail and we will check the notebook. Please state how long you took to complete the challenge. Please do not take more than 2 hours. We don't expect to see a polished production-ready model.\n"
      ]
    },
    {
      "metadata": {
        "id": "sQQbyXmRueiu",
        "colab_type": "code",
        "colab": {}
      },
      "cell_type": "code",
      "source": [
        "import pandas as pd\n",
        "# feel free to change the variable name to something you are comfortable with\n",
        "dat = pd.read_csv(\"challenge_data.csv\")"
      ],
      "execution_count": 0,
      "outputs": []
    },
    {
      "metadata": {
        "id": "DBo4Bq3FI6pd",
        "colab_type": "code",
        "colab": {}
      },
      "cell_type": "code",
      "source": [
        ""
      ],
      "execution_count": 0,
      "outputs": []
    }
  ]
}